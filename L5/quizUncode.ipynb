{
  "nbformat": 4,
  "nbformat_minor": 0,
  "metadata": {
    "colab": {
      "name": "quizUncode.ipynb",
      "provenance": [],
      "collapsed_sections": []
    },
    "kernelspec": {
      "name": "python3",
      "display_name": "Python 3"
    },
    "language_info": {
      "name": "python"
    }
  },
  "cells": [
    {
      "cell_type": "code",
      "source": [
        "import math \n",
        "def solve_quad(b, c):\n",
        "    if b>10000000:\n",
        "      disc=b\n",
        "      x1 = -b\n",
        "      x2 = c/x1\n",
        "      return x1,x2\n",
        "    \n",
        "    disc = b**2-(4*c)\n",
        "    \n",
        "\n",
        "    if (disc == b**2):\n",
        "      x1 = -b\n",
        "      x2 = c/x1\n",
        "    elif(disc>=0):\n",
        "      rdisc = math.sqrt(disc)\n",
        "      x1 = (-b + rdisc)/2\n",
        "      x2= (-b - rdisc)/2\n",
        "    else:\n",
        "      rdisc=math.sqrt(-disc)\n",
        "      x1 = complex(-b/2,rdisc/2)\n",
        "      x2 = complex(-b/2,-rdisc/2)\n",
        "    \n",
        "    # ... enter your code here ...\n",
        "       \n",
        "    return x1,x2"
      ],
      "metadata": {
        "id": "U2DkgDTEAhAC"
      },
      "execution_count": null,
      "outputs": []
    },
    {
      "cell_type": "code",
      "source": [
        "import cmath\n",
        "\n",
        "def solve_quad_Po_Shen_Loh(b, c):\n",
        "\n",
        "  if b>=10000000 or b<=-10000000:\n",
        "    u = -1\n",
        "    x1 = -b\n",
        "    x2 = c/x1\n",
        "\n",
        "    \n",
        "    return u,x1,x2\n",
        "\n",
        "  t = (b/2)**2 - c\n",
        "\n",
        "  if t >= 0:\n",
        "    u = complex(cmath.sqrt(t))\n",
        "    x1 = -complex(b/2 - u)\n",
        "    x2 = -complex(b/2 + u)\n",
        "  else:\n",
        "    u = complex(0,cmath.sqrt(-t))\n",
        "    x1 = -b/2+u\n",
        "    x2 = -b/2-u\n",
        "  \n",
        "  return u,x1,x2\n"
      ],
      "metadata": {
        "id": "8u3dE-gb7T3H"
      },
      "execution_count": null,
      "outputs": []
    }
  ]
}